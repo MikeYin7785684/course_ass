{
 "cells": [
  {
   "cell_type": "markdown",
   "metadata": {},
   "source": [
    "# Answer 1\n",
    "(a)\n",
    "1 refers to model under hypothesis $H_0:\\mu_j=\\mu$\n",
    "\n",
    "A refers to the model under alternative hypothesis against $H_0$ \n",
    "\n",
    "\\begin{align}\n",
    "&P(\\theta_A)P(\\theta_B)\\nonumber\\\\\n",
    "=&P_\\theta(\\theta_A)\\int^\\infty_0 \\frac{1}{\\theta}P_{\\gamma}(\\frac{\\theta_B}{\\theta})P_\\theta(\\theta)d\\theta\\nonumber\n",
    "\\end{align}\n",
    "(b)\n",
    "The mean residual sum of squares \n",
    "\\begin{align}\n",
    "\\bold{MS}(\\small{r}es|A)=&\\int [SS_{tot}-SS(A|1)]/(n-g) \\neq \\\\\n",
    "\\\\\n",
    "\\varpropto\n",
    "&=(41.7-23.9)/(17+1-3)=1.1867\n",
    "\\end{align}\n"
   ]
  },
  {
   "cell_type": "code",
   "execution_count": 5,
   "metadata": {
    "vscode": {
     "languageId": "r"
    }
   },
   "outputs": [
    {
     "data": {
      "text/html": [
       "1.18666666666667"
      ],
      "text/latex": [
       "1.18666666666667"
      ],
      "text/markdown": [
       "1.18666666666667"
      ],
      "text/plain": [
       "[1] 1.186667"
      ]
     },
     "metadata": {},
     "output_type": "display_data"
    }
   ],
   "source": [
    "(41.7-23.9)/15"
   ]
  },
  {
   "cell_type": "markdown",
   "metadata": {},
   "source": [
    "(c)\n",
    "the interactionn freedom terms between A and B is $5\\cdot 14-14-5+1=52$\n",
    "\n",
    "(d)\n",
    "No,we can't get an unbiased estimate.\n",
    "Under $H_0$ or $H_1$ we may not get an unbiased estamate of $\\sigma^2$,because the $SS_{tot}$ and its freedom are unkonwn which help us get $MS(res|A)$.\n",
    "\n",
    "\n",
    "(e)\n",
    "$$\n",
    "\\mu=\\sum_{i=0}^\\infty y(y+1)(1-p^2)p^y=(1-p)^2[\\frac{1}{(1-p)^2}-1]'=\\frac{2}{1-p}\n",
    "$$\n",
    "$$\n",
    "E(Y^2)=\\sum_{i=0}^\\infty y^2(y+1)(1-p^2)p^y=\\sum_{i=0}^\\infty (y-1)y(y+1)(1-p^2)p^y+\\mu=(1-p)^2[\\frac{1}{(1-p)^2}-1-2p]''=\\frac{6}{(1-p)^2}=\\frac{3}{2}\\mu^2\n",
    "$$\n",
    "$$\n",
    "V(\\mu)=E(Y-\\mu)^2=E(Y^2)-\\mu^2=\\frac{1}{2}\\mu^2\n",
    "$$\n",
    "the variance function $V(\\mu)=\\frac{1}{2}\\mu^2$\n",
    "$$\n",
    "f(y|p)=exp\\{ylnp+2ln(1-p)+ln(y+1)\\}\n",
    "$$\n",
    "canonical link function :  $lnp$\n",
    "\n",
    "inverse function:  $e^p$\n",
    "\n"
   ]
  },
  {
   "cell_type": "markdown",
   "metadata": {},
   "source": [
    "# Answer 2\n",
    "(a)\n",
    "Apply a T test on co-efficient on V63\n",
    "$$\n",
    "|t|=\\frac{1508.4-0}{988.6}=1.526<t_{396,\\frac{\\alpha}{2}}\n",
    "$$\n",
    "or\n",
    "$$\n",
    "Pr(|t|>1.526)=0.128<0.05=\\alpha\n",
    "$$\n",
    "Conclusion: do not reject $H_0:\\alpha_{southwest}=0$\n",
    "\n",
    "(b)\n",
    "$$\n",
    "F=\\frac{MS(A|1)}{MS(res|A)}=\\frac{\\frac{3.156\\cdot 10^{10}}{1}}{\\frac{2.044\\cdot 10^{10}}{398}}=614.52>F_{(1,398),\\frac{\\alpha}{2}}=3.8649\n",
    "$$\n",
    "$$\n",
    "Pr(>F)=0\n",
    "$$\n",
    "Conclusion: The V5 is a significient varaible which affect value of V7."
   ]
  },
  {
   "cell_type": "code",
   "execution_count": 38,
   "metadata": {
    "vscode": {
     "languageId": "r"
    }
   },
   "outputs": [
    {
     "name": "stdout",
     "output_type": "stream",
     "text": [
      "[1] 614.524462   3.864929   0.000000\n"
     ]
    }
   ],
   "source": [
    "F<-3.156/2.044*398\n",
    "print(c(F,qf(0.95,1,398),1-pf(F,1,398)))"
   ]
  },
  {
   "cell_type": "markdown",
   "metadata": {},
   "source": [
    "(c)\n",
    "$H_0$ refers to that Co-efficients of V5*V6 which refers to Co-efficients of V5 ,V6(V61,V62,V63) and V5:V6((V61,V62,V63) are 0 .\n",
    "\n",
    "p<0.05 means to reject H_0 and accept the alternativ model which is an oringial one with V5*V6. \n",
    "\n",
    "(d)\n",
    "$H_0$:the co-efficient of V2:V3 is 0\n",
    "\n",
    "p>0.05 accept $H_0$ means that V2:V3 may not have obvious effect the V7 \n",
    "\n",
    "(e)\n",
    "The RMS predictions errors are 17040.241,9827.318,6262.788 .\n",
    "The results show that (d) perform best.\n"
   ]
  },
  {
   "cell_type": "code",
   "execution_count": 89,
   "metadata": {
    "vscode": {
     "languageId": "r"
    }
   },
   "outputs": [
    {
     "name": "stdout",
     "output_type": "stream",
     "text": [
      "[1] 17040.241  9827.318  6262.788\n"
     ]
    }
   ],
   "source": [
    "B<-matrix(c(1,1,1,1,52,28,56,52,1,2,2,1,30.9,25.9,31.8,31.2,0,1,2,0,0,0,1,0,1,2,3,4),nrow=4,ncol=7)\n",
    "V7<-c(23046,4134,43814,9626)\n",
    "Model1<-matrix(c(12641,0,0,0,0,0,0),nrow=7)\n",
    "Model2<-matrix(c(8444.314,0,0,0,0,22995.509,0),nrow=7)\n",
    "Model5<-matrix(c(-10078.41,244.15,0,305.34,0,19279.05,0,5808.30,6040.71,5192.95),nrow=10)\n",
    "B5int<-t(B[,6]*matrix(c(0,1,0,0,0,0,1,0,0,0,0,1),nrow=3,ncol=4))\n",
    "B5<-cbind(B[,c(1,2,3,4,5,6,7)],B5int)\n",
    "RMS_1<-sqrt(sum((V7-B%*%Model1)^2)/4)\n",
    "RMS_2<-sqrt(sum((V7-B%*%Model2)^2)/4)\n",
    "RMS_5<-sqrt(sum((V7-B5%*%Model5)^2)/4)\n",
    "print(c(RMS_1,RMS_2,RMS_5))\n"
   ]
  },
  {
   "cell_type": "code",
   "execution_count": 83,
   "metadata": {
    "vscode": {
     "languageId": "r"
    }
   },
   "outputs": [
    {
     "data": {
      "text/html": [
       "<style>\n",
       ".list-inline {list-style: none; margin:0; padding: 0}\n",
       ".list-inline>li {display: inline-block}\n",
       ".list-inline>li:not(:last-child)::after {content: \"\\00b7\"; padding: 0 .5ex}\n",
       "</style>\n",
       "<ol class=list-inline><li>1</li><li>52</li><li>1</li><li>30.9</li><li>0</li><li>0</li><li>1</li></ol>\n"
      ],
      "text/latex": [
       "\\begin{enumerate*}\n",
       "\\item 1\n",
       "\\item 52\n",
       "\\item 1\n",
       "\\item 30.9\n",
       "\\item 0\n",
       "\\item 0\n",
       "\\item 1\n",
       "\\end{enumerate*}\n"
      ],
      "text/markdown": [
       "1. 1\n",
       "2. 52\n",
       "3. 1\n",
       "4. 30.9\n",
       "5. 0\n",
       "6. 0\n",
       "7. 1\n",
       "\n",
       "\n"
      ],
      "text/plain": [
       "[1]  1.0 52.0  1.0 30.9  0.0  0.0  1.0"
      ]
     },
     "metadata": {},
     "output_type": "display_data"
    },
    {
     "data": {
      "text/html": [
       "<table class=\"dataframe\">\n",
       "<caption>A matrix: 4 x 10 of type dbl</caption>\n",
       "<tbody>\n",
       "\t<tr><td>1</td><td>52</td><td>1</td><td>30.9</td><td>0</td><td>0</td><td>1</td><td>0</td><td>0</td><td>0</td></tr>\n",
       "\t<tr><td>1</td><td>28</td><td>2</td><td>25.9</td><td>1</td><td>0</td><td>2</td><td>0</td><td>0</td><td>0</td></tr>\n",
       "\t<tr><td>1</td><td>56</td><td>2</td><td>31.8</td><td>2</td><td>1</td><td>3</td><td>1</td><td>0</td><td>0</td></tr>\n",
       "\t<tr><td>1</td><td>52</td><td>1</td><td>31.2</td><td>0</td><td>0</td><td>4</td><td>0</td><td>0</td><td>0</td></tr>\n",
       "</tbody>\n",
       "</table>\n"
      ],
      "text/latex": [
       "A matrix: 4 x 10 of type dbl\n",
       "\\begin{tabular}{llllllllll}\n",
       "\t 1 & 52 & 1 & 30.9 & 0 & 0 & 1 & 0 & 0 & 0\\\\\n",
       "\t 1 & 28 & 2 & 25.9 & 1 & 0 & 2 & 0 & 0 & 0\\\\\n",
       "\t 1 & 56 & 2 & 31.8 & 2 & 1 & 3 & 1 & 0 & 0\\\\\n",
       "\t 1 & 52 & 1 & 31.2 & 0 & 0 & 4 & 0 & 0 & 0\\\\\n",
       "\\end{tabular}\n"
      ],
      "text/markdown": [
       "\n",
       "A matrix: 4 x 10 of type dbl\n",
       "\n",
       "| 1 | 52 | 1 | 30.9 | 0 | 0 | 1 | 0 | 0 | 0 |\n",
       "| 1 | 28 | 2 | 25.9 | 1 | 0 | 2 | 0 | 0 | 0 |\n",
       "| 1 | 56 | 2 | 31.8 | 2 | 1 | 3 | 1 | 0 | 0 |\n",
       "| 1 | 52 | 1 | 31.2 | 0 | 0 | 4 | 0 | 0 | 0 |\n",
       "\n"
      ],
      "text/plain": [
       "     [,1] [,2] [,3] [,4] [,5] [,6] [,7] [,8] [,9] [,10]\n",
       "[1,] 1    52   1    30.9 0    0    1    0    0    0    \n",
       "[2,] 1    28   2    25.9 1    0    2    0    0    0    \n",
       "[3,] 1    56   2    31.8 2    1    3    1    0    0    \n",
       "[4,] 1    52   1    31.2 0    0    4    0    0    0    "
      ]
     },
     "metadata": {},
     "output_type": "display_data"
    }
   ],
   "source": [
    "B[1,]\n",
    "B5"
   ]
  }
 ],
 "metadata": {
  "kernelspec": {
   "display_name": "R",
   "language": "R",
   "name": "ir"
  },
  "language_info": {
   "codemirror_mode": "r",
   "file_extension": ".r",
   "mimetype": "text/x-r-source",
   "name": "R",
   "pygments_lexer": "r",
   "version": "4.3.1"
  },
  "orig_nbformat": 4
 },
 "nbformat": 4,
 "nbformat_minor": 2
}

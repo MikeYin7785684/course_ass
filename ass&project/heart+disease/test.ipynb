{
 "cells": [
  {
   "cell_type": "code",
   "execution_count": 6,
   "metadata": {
    "vscode": {
     "languageId": "r"
    }
   },
   "outputs": [
    {
     "name": "stdout",
     "output_type": "stream",
     "text": [
      "  CategoryA CategoryB CategoryC\n",
      "1         1         0         0\n",
      "2         0         1         0\n",
      "3         0         0         1\n",
      "4         1         0         0\n",
      "5         0         1         0\n",
      "6         0         0         1\n",
      "attr(,\"assign\")\n",
      "[1] 1 1 1\n",
      "attr(,\"contrasts\")\n",
      "attr(,\"contrasts\")$Category\n",
      "[1] \"contr.treatment\"\n",
      "\n"
     ]
    }
   ],
   "source": [
    "data <- data.frame(\n",
    "  ID = 1:6,\n",
    "  Category = c(\"A\", \"B\", \"C\", \"A\", \"B\", \"C\")\n",
    ")\n",
    "\n",
    "# Use model.matrix() to create dummy variables\n",
    "dummy_data <- model.matrix(~ Category-1 , data)\n",
    "\n",
    "# Rename the columns to remove the intercept column\n",
    "# colnames(dummy_data) <- gsub(\"Category\", \"\", colnames(dummy_data))\n",
    "\n",
    "# Print the resulting data frame with dummy variables\n",
    "print(dummy_data)\n"
   ]
  }
 ],
 "metadata": {
  "kernelspec": {
   "display_name": "R",
   "language": "R",
   "name": "ir"
  },
  "language_info": {
   "codemirror_mode": "r",
   "file_extension": ".r",
   "mimetype": "text/x-r-source",
   "name": "R",
   "pygments_lexer": "r",
   "version": "4.3.1"
  }
 },
 "nbformat": 4,
 "nbformat_minor": 2
}

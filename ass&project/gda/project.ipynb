{
 "cells": [
  {
   "cell_type": "code",
   "execution_count": null,
   "metadata": {
    "vscode": {
     "languageId": "r"
    }
   },
   "outputs": [],
   "source": [
    "# library(leaflet)\n",
    "# library(tigris)\n",
    "# options(tigris_use_cache = TRUE)\n",
    "# install.packages(\"ggplot2\")\n",
    "# library(ggplot2)\n",
    "# ggplot(data = insure, aes(x = long, y = lat, map_id = insure$Zip)) +\n",
    "#   geom_map(aes(fill = insure$Race), map = ) +\n",
    "#   expand_limits(your_map_data) +\n",
    "#   scale_fill_gradient(low = \"blue\", high = \"red\") +\n",
    "#   theme_void()\n"
   ]
  },
  {
   "cell_type": "code",
   "execution_count": null,
   "metadata": {
    "vscode": {
     "languageId": "r"
    }
   },
   "outputs": [
    {
     "ename": "",
     "evalue": "",
     "output_type": "error",
     "traceback": [
      "\u001b[1;31m无法启动 Kernel。 \n",
      "\u001b[1;31mError in dyn.load(\"C:/Documents/Priya-MCMC/dev/My Documents/My Folders/Binomial Tree alt3/Release/treesim.dll\") : \n",
      "\u001b[1;31m  unable to load shared object '/Users/yinhao/Desktop/course/STAT6026(Graphical Data Analysis)/C:/Documents/Priya-MCMC/dev/My Documents/My Folders/Binomial Tree alt3/Release/treesim.dll':\n",
      "\u001b[1;31m  dlopen(/Users/yinhao/Desktop/course/STAT6026(Graphical Data Analysis)/C:/Documents/Priya-MCMC/dev/My Documents/My Folders/Binomial Tree alt3/Release/treesim.dll, 0x0006): tried: '/Users/yinhao/Desktop/course/STAT6026(Graphical Data Analysis)/C:/Documents/Priya-MCMC/dev/My Documents/My Folders/Binomial Tree alt3/Release/treesim.dll' (no such file), '/System/Volumes/Preboot/Cryptexes/OS/Users/yinhao/Desktop/course/STAT6026(Graphical Data Analysis)/C:/Documents/Priya-MCMC/dev/My Documents/My Folders/Binomial Tree alt3/Release/treesim.dll' (no such file), '/Users/yinhao/Desktop/course/STAT6026(Graphical Data Analysis)/C:/Documents/Priya-MCMC/dev/My Documents/My Folders/Binomial Tree alt3/Release/treesim.dll' (no such file)\n",
      "\u001b[1;31mCalls: .First -> dyn.load\n",
      "\u001b[1;31mIn addition: There were 12 warnings (use warnings() to see them)\n",
      "\u001b[1;31mExecution halted. \n",
      "\u001b[1;31m有关更多详细信息，请查看 Jupyter <a href='command:jupyter.viewOutput'>log</a>。"
     ]
    }
   ],
   "source": [
    "\n",
    "####\n",
    "#colnames(insure)[colnames(insure) == \"ZIP\"] <- \"ZIPCODE\"\n",
    "library(ggplot2)\n",
    "# library(sf)\n",
    "# library(dplyr)\n",
    "# library(ggmap)\n"
   ]
  },
  {
   "cell_type": "code",
   "execution_count": null,
   "metadata": {
    "vscode": {
     "languageId": "r"
    }
   },
   "outputs": [],
   "source": [
    "insure<- data.frame(insure)\n",
    "colnames(insure)[colnames(insure) == \"Zip\"] <- \"zip\"\n",
    "insure$zip <- as.character(insure$zip)\n",
    "chicago_zip_boundaries <- st_read(\"Boundaries_ZIP_Codes.geojson\")\n",
    "merged_data <- inner_join(chicago_zip_boundaries, insure, by = c(\"Zip\" = \"zip\"))\n",
    "ggplot() +\n",
    "  geom_sf(data = merged_data, aes(fill = Race)) +\n",
    "  scale_fill_gradient(low = \"white\", high = \"black\") +\n",
    "  labs(title = \"Race by ZIP Code in Chicago\") +\n",
    "  theme_minimal()\n",
    "\n",
    "ggplot() +\n",
    "  geom_sf(data = merged_data, aes(fill = Fire)) +\n",
    "  scale_fill_gradient(low = \"white\", high = \"red\") +\n",
    "  labs(title = \"Fire by ZIP Code in Chicago\") +\n",
    "  theme_minimal()\n",
    "\n",
    "\n",
    "\n",
    "ggplot() +\n",
    "  geom_sf(data = merged_data, aes(fill = Theft)) +\n",
    "  scale_fill_gradient(low = \"white\", high = \"black\") +\n",
    "  labs(title = \"Theft by ZIP Code in Chicago\") +\n",
    "  theme_minimal()\n",
    "ggplot() +\n",
    "  geom_sf(data = merged_data, aes(fill = Age)) +\n",
    "  scale_fill_gradient(low = \"black\", high = \"white\") +\n",
    "  labs(title = \"Age by ZIP Code in Chicago\") +\n",
    "  theme_minimal()\n",
    "ggplot() +\n",
    "  geom_sf(data = merged_data, aes(fill = Volun)) +\n",
    "  scale_fill_gradient(low = \"white\", high = \"red\") +\n",
    "  labs(title = \"Volun by ZIP Code in Chicago\") +\n",
    "  theme_minimal()\n",
    "ggplot() +\n",
    "  geom_sf(data = merged_data, aes(fill = Invol)) +\n",
    "  scale_fill_gradient(low = \"white\", high = \"green\") +\n",
    "  labs(title = \"Invol by ZIP Code in Chicago\") +\n",
    "  theme_minimal()\n",
    "ggplot() +\n",
    "  geom_sf(data = merged_data, aes(fill = Income)) +\n",
    "  scale_fill_gradient(low = \"white\", high = \"blue\") +\n",
    "  labs(title = \"Income by ZIP Code in Chicago\") +\n",
    "  theme_minimal()"
   ]
  }
 ],
 "metadata": {
  "kernelspec": {
   "display_name": "R",
   "language": "R",
   "name": "ir"
  },
  "language_info": {
   "name": "R"
  }
 },
 "nbformat": 4,
 "nbformat_minor": 2
}

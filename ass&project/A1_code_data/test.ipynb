{
 "cells": [
  {
   "cell_type": "code",
   "execution_count": 1,
   "metadata": {},
   "outputs": [
    {
     "data": {
      "text/plain": [
       "11"
      ]
     },
     "execution_count": 1,
     "metadata": {},
     "output_type": "execute_result"
    }
   ],
   "source": [
    "a=1\n",
    "for i in range(10):\n",
    "    a +=1\n",
    "a"
   ]
  },
  {
   "cell_type": "code",
   "execution_count": 2,
   "metadata": {},
   "outputs": [
    {
     "data": {
      "text/plain": [
       "[(3, 4), (1, 23)]"
      ]
     },
     "execution_count": 2,
     "metadata": {},
     "output_type": "execute_result"
    }
   ],
   "source": [
    "dic1={'A':[(1,23),(3,4)],\n",
    "      'B':[(2,2),(4,4)]}\n",
    "sorted(dic1['A'],key=lambda x: x[1])"
   ]
  },
  {
   "cell_type": "code",
   "execution_count": 9,
   "metadata": {},
   "outputs": [],
   "source": [
    "import nltk\n",
    "from nltk.corpus import stopwords\n"
   ]
  },
  {
   "cell_type": "code",
   "execution_count": 12,
   "metadata": {},
   "outputs": [
    {
     "data": {
      "text/plain": [
       "True"
      ]
     },
     "execution_count": 12,
     "metadata": {},
     "output_type": "execute_result"
    }
   ],
   "source": [
    "stopwords = set(nltk.corpus.stopwords.words(\"english\"))\n",
    "'and' in stopwords"
   ]
  },
  {
   "cell_type": "code",
   "execution_count": 15,
   "metadata": {},
   "outputs": [
    {
     "name": "stdout",
     "output_type": "stream",
     "text": [
      "\u001b[0;31mSignature:\u001b[0m \u001b[0ms\u001b[0m\u001b[0;34m.\u001b[0m\u001b[0mstrip\u001b[0m\u001b[0;34m(\u001b[0m\u001b[0mchars\u001b[0m\u001b[0;34m=\u001b[0m\u001b[0;32mNone\u001b[0m\u001b[0;34m,\u001b[0m \u001b[0;34m/\u001b[0m\u001b[0;34m)\u001b[0m\u001b[0;34m\u001b[0m\u001b[0;34m\u001b[0m\u001b[0m\n",
      "\u001b[0;31mDocstring:\u001b[0m\n",
      "Return a copy of the string with leading and trailing whitespace removed.\n",
      "\n",
      "If chars is given and not None, remove characters in chars instead.\n",
      "\u001b[0;31mType:\u001b[0m      builtin_function_or_method"
     ]
    }
   ],
   "source": [
    "import string\n",
    "string.punctuation.strip('?')\n",
    "s=(\"abebfe!!??2333\")\n",
    "s.strip"
   ]
  },
  {
   "cell_type": "code",
   "execution_count": 20,
   "metadata": {},
   "outputs": [
    {
     "name": "stdout",
     "output_type": "stream",
     "text": [
      "['aaaa8.gggg---(){}66666', 'bb8', 'ccc8', 'dddddd8']\n",
      "['aaaa8.gggg---(){}66666()', 'bb8', 'ccc8', 'dddddd8']\n"
     ]
    }
   ],
   "source": [
    "lst = [(\"aaaa8.gggg---(){}66666()\"),(\"bb8\"),(\"ccc8\"),(\"dddddd8\")]\n",
    "print([s.strip(string.punctuation) for s in lst]) # remove the 8 from the string borders\n",
    "print([s.removesuffix(string.punctuation) for s in lst]) # remove all the 8s \n"
   ]
  },
  {
   "cell_type": "code",
   "execution_count": 18,
   "metadata": {},
   "outputs": [
    {
     "data": {
      "text/plain": [
       "(0.0,\n",
       " array([[ 0.18232156, -0.38299225,  0.22314355],\n",
       "        [ 0.18232156,  0.31015493, -0.87546874],\n",
       "        [-0.51082562, -0.38299225,  0.51082562]]))"
      ]
     },
     "execution_count": 18,
     "metadata": {},
     "output_type": "execute_result"
    }
   ],
   "source": [
    "import numpy as np\n",
    "pmi_mat=np.array([[4,3,3],[4,6,1],[2,3,4]])\n",
    "p1=np.sum(pmi_mat,axis=0)/np.sum(pmi_mat)\n",
    "p2=np.sum(pmi_mat,axis=1)/np.sum(pmi_mat)\n",
    "np.log((pmi_mat/np.sum(pmi_mat))/(p1*p2.T)\n",
    "\n"
   ]
  },
  {
   "cell_type": "code",
   "execution_count": 14,
   "metadata": {},
   "outputs": [
    {
     "data": {
      "text/plain": [
       "[1, 2, 3, 4, 5, 8, 10, 12, 23, 2325]"
      ]
     },
     "execution_count": 14,
     "metadata": {},
     "output_type": "execute_result"
    }
   ],
   "source": [
    "b=[1,2,3,8]\n",
    "a=[1,4,5,8,10,12,23,2325]\n",
    "def intt(a,b):\n",
    "    res=[]\n",
    "    p1=0\n",
    "    p2=0\n",
    "    while p1!= len(a) and p2!=len(b):\n",
    "        if a[p1]==b[p2]:\n",
    "            res.append(a[p1])\n",
    "            p1+=1\n",
    "            p2+=1\n",
    "        elif a[p1]<b[p2]:\n",
    "            res.append(a[p1])\n",
    "            p1+=1\n",
    "        else:\n",
    "            res.append(b[p2])\n",
    "            p2+=1\n",
    "    while p1!=len(a):\n",
    "        res.append(a[p1])\n",
    "        p1+=1\n",
    "    while p2!=len(b):\n",
    "        res.append(b[p2])\n",
    "        p2+=1\n",
    "\n",
    "    return res\n",
    "intt(a,b)"
   ]
  },
  {
   "cell_type": "code",
   "execution_count": 1,
   "metadata": {},
   "outputs": [
    {
     "data": {
      "text/plain": [
       "['what', 'a', 'mess']"
      ]
     },
     "execution_count": 1,
     "metadata": {},
     "output_type": "execute_result"
    }
   ],
   "source": [
    "ql=['what a mess       ']\n",
    "ql[0].split()"
   ]
  },
  {
   "cell_type": "code",
   "execution_count": 1,
   "metadata": {},
   "outputs": [
    {
     "name": "stdout",
     "output_type": "stream",
     "text": [
      "True\n",
      "True\n",
      "True\n"
     ]
    }
   ],
   "source": [
    "from string_processing import (\n",
    "    process_tokens,\n",
    "    tokenize_text,\n",
    ")\n",
    "qq='''http://cmth.phy.bnl.gov/~maslov/\n",
    "\n",
    "                                Sergei Maslov\n",
    "                 Home Contact Me Recent Papers Talks Applets\n",
    "\n",
    "\n",
    "\n",
    "\n",
    "   Low-dimensional\n",
    "   magnetism          Properties\n",
    "                  of ultra-thin films Interdisciplinary Physics &\n",
    "                                      Self-Organized Criticality\n",
    "\n",
    "                                  [loohorsa.gif]\n",
    "\n",
    "   About myself:\n",
    "\n",
    "      I am an assistant physicist at the Condensed Matter Theory Group ,\n",
    "      Department of Physics, Brookhaven National Laboratory  located on the\n",
    "      eastern end of Long Island, New York FL00101_.WMF (34412 bytes) .\n",
    "\n",
    "      I graduated from the famous 57th mathematical high school in Moscow.  I\n",
    "      hold the B. S. in Physics and Mathematics and M. S. in Physics and\n",
    "      Applied Mathematics from  Moscow Institute of Physics and Technology\n",
    "      FL00082_.WMF (4370 bytes) .  My M. S. thesis work on vortex lines in\n",
    "      layered superconductors was done at the Landau Institute  under the\n",
    "      guidance of Prof. Valery Pokrovsky.\n",
    "\n",
    "      Then in 1992 I moved to US and stayed on Long Island ever since, first\n",
    "      as a Ph.D. student at the SUNY at Stony Brook FL00101_.WMF (34412\n",
    "      bytes) ,  while working at Brookhaven on self-organized criticality,\n",
    "      with Per Bak (now at the Niels Bohr Institute).\n",
    "\n",
    "      After my Ph.D. I continued to work at Brookhaven first as a postdoc and\n",
    "      then as a staff member.  I now work on low-dimensional magnetism in\n",
    "      collaboration with Andrey Zheludev, Gen Shirane from the BNL neutron\n",
    "      scattering group, and other experimentalists mostly from Japan.\n",
    "      Recently I got involved in work on ultra-thin films in collaboration\n",
    "      with the IR spectroscopy experimental group here at BNL and the UC San\n",
    "      Diego.\n",
    "\n",
    "      During my regular summer visits to Yi-Cheng Zhang at the Institute for\n",
    "      Theoretical Physics in Fribourg, Switzerland FL00095_.WMF (3554 bytes)\n",
    "       , and short trips to Chao Tang at the NEC Research Institute in\n",
    "      Princeton, NJ FL00101_.WMF (34412 bytes) ,  I am working on\n",
    "      econophysics (application of the methods of Statistical Physics to\n",
    "      problems of economics and finance) and properties such as the 1/f-noise\n",
    "      of models of Self-Organized Criticality.\n",
    "\n",
    "      If you want more details look in my Curriculum Vitae.\n",
    "\n",
    "                                  [loohorsa.gif]\n",
    "\n",
    "   Research interests:\n",
    "\n",
    "   [loobul1a.gif]\n",
    "\n",
    "                  Low-dimensional magnetism:\n",
    "\n",
    "   [loobul2a.gif]\n",
    "\n",
    "                  Nd[2]BaNiO[5] -- a Haldane chain in\n",
    "                  a staggered magnetic field:\n",
    "\n",
    "   This is an artistic interpretation combining the structure and Haldane\n",
    "   gap excitation spectrum of Nd[2]BaNiO[5] made by my friend and\n",
    "   collaborator Andrey Zheludev for the cover of Neutron News.\n",
    "\n",
    "                         haldane1.jpg (103995 bytes)\n",
    "\n",
    "   The main ingredient of this material is Ni (S=1) ions arranged in\n",
    "   chains, making it a near perfect example of 1D Heisenberg\n",
    "   antiferomagnet. It was predicted by Haldane that 1D antiferromagnet\n",
    "   with integer (as opposed to half-integer) spin will be in a\n",
    "   quantum-disordered state, where the long range antiferromagnetic order\n",
    "   is completely destroyed by quantum fluctuations. In this disordered\n",
    "   state what used to be a doublet of gapless magnons (spin waves) is now\n",
    "   a triplet of excitations with a finite energy gap at the AFM zone\n",
    "   center.\n",
    "\n",
    "   This is exactly what was observed in Y[2]BaNiO[5] (a closest relative\n",
    "   of our material in which magnetic Nd rare-earth ion was replaced by the\n",
    "   non-magnetic Y). This material does not develop AFM long range order\n",
    "   and has all features of quantum disordered ground state, described by\n",
    "   Haldane. Now the Nd-based material does order at 48K and at a first\n",
    "   thought should have no energy gap in it's excitation spectrum below\n",
    "   ordering temperature. However, the experiment tells us that not only\n",
    "   that it's spin-excitation spectrum has an energy gap around 10 meV,\n",
    "   but this gap even grows as T is decreased below T[N]!\n",
    "\n",
    "   This somewhat counterintuitive behavior can be explained in terms of a\n",
    "   simple picture of a Haldane chain in a staggered magnetic field\n",
    "   produced by the Nd sublattice.\n",
    "\n",
    "   We have succeeded in:\n",
    "    1. Working out the basic model and interpreting the results of neutron\n",
    "       scattering experiments: cond-mat/9706047, cond-mat/9710015 (long\n",
    "       review paper).\n",
    "    2. Experimental measurement of the staggered magnetization curve of an\n",
    "       S=1 antiferromagnetic chain:  cond-mat/9801068.\n",
    "    3. Deriving quantitative theoretical predictions for the increase in\n",
    "       Haldane gap as a function of the staggered moment, induced by the\n",
    "       external staggered field, as well as the overall shape of the\n",
    "       staggered magnetization  curve. These predictions, based on the\n",
    "       existing numerical data, describing the shape of effective\n",
    "       potential in O(3)-symmetric field theory, are in a beautiful\n",
    "       agreement with the experimental data in Nd[2]BaNiO[5]:\n",
    "       cond-mat/9803393.\n",
    "    4. Describing the intensity of collective Ni-Nd excitations as a\n",
    "       function of the wave vector component perpendicular to chains. What\n",
    "       happens here is that Haldane-gapped magnons on Ni-chains couple\n",
    "       with the higher energy crystal-field excitations of Nd ions. This\n",
    "       results in intensity modulation:\n",
    "       cond-mat/9910335.\n",
    "\n",
    "     [loobul2a.gif]\n",
    "\n",
    "                    Ba[2]CuGeO[3] -- a Dzyaloshinskii helimagnet:\n",
    "\n",
    "   Here is yet another magnetic curiosity: Ba[2]CuGeO[3] -- spin-spiral\n",
    "   magnet.  The spiral is due to Dzyaloshinskii-Moriya antisymmetric\n",
    "   exchange H[Dzyaloshinskii] = D·S[1] × S[2] competing with a much\n",
    "   stronger  Heisenberg antiferromagnetic exchange H[Heisenberg]= J\n",
    "   S[1]·S[2] . It is easy to see that the total energy is minimized when\n",
    "   spins form an angle 180^^o+ tan^-1 D/J\n",
    "\n",
    "                         spiral1.BMP (268198 bytes)\n",
    "\n",
    "   We successfully explained the following properties of this material:\n",
    "\n",
    "   A commensurate-incommensurate phase transition of that spiral in\n",
    "   external vertical magnetic field. As usual it happens via a formation\n",
    "   of soliton (domain wall) lattice. For details see:\n",
    "   cond-mat/9701127, cond-mat/9706146 .\n",
    "\n",
    "   A peculiar way in which the spin plane and propagation of the spiral\n",
    "   can be manipulated by applying a very weak horizontal magnetic field.\n",
    "   An extremely weak in-plane anisotropy of order of 10 neV (yes\n",
    "   nanovolts!) per spin. For details see  cond-mat/9707166 .\n",
    "\n",
    "   The very weak deformation of the spiral in zero vertical field\n",
    "   manifested in the third order satellites of main Bragg reflections and\n",
    "   the details of the spin-wave spectrum around the AFM zone center. We\n",
    "   explained this deformation by taking into account the correction to\n",
    "   Dzyaloshinskii-Moria interaction predicted by Kaplan, and later by\n",
    "   Shekhtman, Entin-Wohlman, and Aharony. This correction, which we refer\n",
    "   to as KSEA interaction (initials of the four authors above) restores\n",
    "   the local O(3) symmetry to every nearest-neighbor bond.  It can be\n",
    "   written as (D·S[1])(D·S[2])/2 J.   For details see  cond-mat/9805236,\n",
    "   and  cond-mat/9810122.\n",
    "\n",
    "\n",
    "                               [loohorsa.gif]\n",
    "\n",
    "   [loobul1a.gif]\n",
    "\n",
    "                  Properties of ultra-thin films:\n",
    "\n",
    "   I recently got involved in studies of the AC conductivity in ultra-thin\n",
    "   quenched-condensed Pb films cond-mat/9905036 (to appear in Phys. Rev.\n",
    "   Lett.). Experimentalists here at Brookhaven can measure in situ the AC\n",
    "   conductivity of such films in the infrared diapason (frequency < 8000\n",
    "   cm^-1). The AC-conductivity can be first detected in films as thin as\n",
    "   ~10Å .  Then one can see how its frequency profile changes as more and\n",
    "   more lead is deposited. During this whole process films are held at\n",
    "   liquid-Helium temperatures so that (hopefully) the deposition results\n",
    "   in a more or less homogeneous film with no large grains of Pb, which\n",
    "   would be produced for the deposition at room temperatures. Conductivity\n",
    "   profiles in our films of increasing thickness typically look like this:\n",
    "\n",
    "   wpe1.jpg (60040 bytes)\n",
    "\n",
    "   As one can see, the AC conductivity increases with frequency in all but\n",
    "   the very thickest of the films, in which the  Drude fall-off obscures\n",
    "   this effect. One possible source of such conductivity increase is due\n",
    "   to localization effects. Indeed, as frequency is increased the\n",
    "   corresponding diffusion length scale decreases and the coherent\n",
    "   backscattering of electrons is suppressed. However, the observed effect\n",
    "   turns out to be to strong and the thickness dependence of the slope too\n",
    "   bizarre to be explained in terms of localization alone. We believe that\n",
    "   a much more mundane effect well known in more granular systems (such as\n",
    "   films deposited at room temperature) is mainly responsible for this\n",
    "   effect. Simply speaking at small length scale our films are far from\n",
    "   homogeneous. They are composed of grains of Pb with horizontal\n",
    "   dimensions of order of ~100-200Å. These grains are couple to each other\n",
    "   both capacitively and resistively (through direct contact or\n",
    "   tunneling). Of course, the capacitive coupling does not contribute to\n",
    "   the DC conductivity. But for for the IR frequencies it simply cannot be\n",
    "   ignored! the higher is the frequency - the stronger is this capacitive\n",
    "   coupling and higher is the AC conductive. Quantitative predictions for\n",
    "   the frequency dependent conductivity in such purely classical systems\n",
    "   were previously derived in the framework of the percolation theory. Our\n",
    "   experimental data are consistent with these predictions.\n",
    "\n",
    "   [loobul1a.gif]\n",
    "\n",
    "                  Self-Organized Criticality:\n",
    "\n",
    "   Self-Organized Criticality is a concept introduced by Per Bak, Chao\n",
    "   Tang, and Kurt Wiesenfeld in 1987. It refers to the tendency of large\n",
    "   driven dissipative systems to organize themselves to a very peculiar\n",
    "   stationary state.  The dynamics in this state is intermittent with\n",
    "   periods of inactivity separated by well defined bursts of activity or\n",
    "   avalanches.  The criticality of this state is manifested as the absence\n",
    "   of characteristic spatial and temporal scales of these avalanches. In\n",
    "   less fancy language: large avalanches occur rather often (there is no\n",
    "   exponential decay of avalanche sizes, which would result in a\n",
    "   characteristic avalanche size), and there is a variety of power laws\n",
    "   without cutoffs in various properties of the system. The paradigm model\n",
    "   for this type of behavior is the celebrated sandpile cellular automaton\n",
    "   also know as the Bak-Tang-Wiesenfeld (BTW) model. I wrote a JAVA applet\n",
    "   which lets you play with this model by adding sand at any site or\n",
    "   setting the height of sand column at any site to any value, changing\n",
    "   system size,  and boundary conditions  etc.\n",
    "\n",
    "   Below I reproduce nice-looking snapshots of two SOC models: the BTW\n",
    "   model (left) and the forest fire model (right), which was introduced in\n",
    "   1990 by Per Bak, Kan Chen, and Chao Tang .\n",
    "\n",
    "   [identity.gif] [xfires.gif]\n",
    "\n",
    "                The identity state in the Bak-Tang-Wiesenfeld\n",
    "                   sandpile model  on a 198×198 lattice.\n",
    "                Heights of columns of sand are color coded as\n",
    "                       green-3, blue-2, red-1, gray-0.\n",
    "\n",
    "                          Adding this state to any\n",
    "              recurrent configuration of the BTW sandpile model\n",
    "                  and letting it relax, in the end produces\n",
    "                    the  unchanged initial configuration.\n",
    "                    Rules of the model are described here\n",
    "\n",
    "                 A snapshot of a self-sustained forest fire\n",
    "            (yellow -fires, green -trees, black - empty spaces).\n",
    "                     Rules of the game are very simple:\n",
    "               Trees grow on empty spaces with probability p;\n",
    "            a fire burns down to an empty space in one time step\n",
    "             but  manages to ignite all nearest-neighbor trees.\n",
    "               In order for this model to be a realistic model\n",
    "               of forest fires, trees have to grow fast enough\n",
    "              to replace their burned neighbors, while the fire\n",
    "             is still burning :(. But the model is fun to watch\n",
    "                                   anyhow.\n",
    "\n",
    "   the images were made by Mike Creutz who is working on high-energy\n",
    "   physics here at Brookhaven. At his Xtoys page you can find more images\n",
    "   , as well as neat X-windows-based interactive simulation programs you\n",
    "   can play with.  My JAVA applet of sandpile model is written under the\n",
    "   influence of his xsand C-program for X-windows.\n",
    "\n",
    "     [loobul1a.gif]\n",
    "\n",
    "                    Interdisciplinary physics:\n",
    "\n",
    "   My research interests in this field are concentrated in three main\n",
    "   directions:\n",
    "\n",
    "   Self-Organized Criticality (SOC) in general and SOC extremal models in\n",
    "   particular. These models, including the Bak-Sneppen model, Invasion\n",
    "   percolation, Zaitsev model, etc., have a mechanism of organizing\n",
    "   themselves to a scale-free stationary state, which is completely\n",
    "   different from the conservation of sand in sandpile models.  Their main\n",
    "   feature is that activity always happens at the site, characterized by\n",
    "   the global minimum (or maximum if you like it better) of some variable.\n",
    "   As a result of this activity this variable is updated at the minimum\n",
    "   site itself and its nearest neighbors according to some stochastic\n",
    "   rule. The exact definition of this rule defines the universality class\n",
    "   of the model. In  cond-mat/9803068, and cond-mat/9710152  you can find\n",
    "   more about recent analytical advances in calculating critical exponents\n",
    "   of SOC extremal models.\n",
    "\n",
    "   Econophysics -- application of techniques and concepts of\n",
    "   non-equilibrium statistical physics to studies of stock-market\n",
    "   fluctuations and other questions of economics and finance. My research\n",
    "   concentrated on multiplicative nature of fluctuations in economics.\n",
    "   Even the simplest multiplicative stochastic process -- multiplicative\n",
    "   random walk has some unexpected features cond-mat/9801240 . A\n",
    "   multiplicative fluctuations in dynamically managed portfolio can give\n",
    "   rise to non-universal power law distributions cond-mat/9801239.\n",
    "   Recently I constructed  (cond-mat/9910502) a simple model of a\n",
    "   limit-order driven market, where agents with equal probability trade\n",
    "   stock at the market price or place limit orders, i.e. instructions to\n",
    "   sell (buy) if stock price raises above (falls below) a predetermined\n",
    "   price level. In spite of the minimalistic nature of the rules of this\n",
    "   model (no strategies, or trader psychology, e.t.c.) they give rise to a\n",
    "   set of nontrivial features. These features include fat tails of price\n",
    "   fluctuations distribution function, characterized by two power law\n",
    "   exponents, volatility clustering, and nontrivial Hurst exponent of the\n",
    "   stock price as a function of time. I am also on the advisory board of\n",
    "   the Econophysics Forum, which is a monthly Web bulletin of interest to\n",
    "   members of the econophysics community.\n",
    "\n",
    "   1/f-noise and long memory in non-equilibrium systems still lacks\n",
    "   universal explanation. In my recent paper with Chao Tang and Yi-Cheng\n",
    "   Zhang we investigate the nature of long term configurational memory and\n",
    "   the 1/f-noise in sandpile models defined on narrow stripes and driven\n",
    "   by local addition of sand at one column. Interestingly, the underlying\n",
    "   mechanism for the 1/f  noise in this athermal nonequilibrium system is\n",
    "   very similar to the mechanism traditionally used for the explanation of\n",
    "   the 1/f-noise in voltage fluctuations in wires at thermal equilibrium.\n",
    "   More details about this work as well as JAVA applets illustrating the\n",
    "   main points of our paper can be found here.\n",
    "\n",
    "                               [loohorsa.gif]\n",
    "\n",
    "\n",
    "    maslov@bnl.gov\n",
    "\n",
    "\n",
    "    Sergei Maslov\n",
    "\n",
    "   [Count.cgi?df=maslov_home.dat&amp;sh=F] [ISMAP:counter.gif?22890]\n",
    "\n",
    "'''\n",
    "qqq=process_tokens(tokenize_text(qq))\n",
    "ppp=process_tokens(tokenize_text(\"Global AND SPACE AND economics\"))\n",
    "for i in ppp:\n",
    "    print(i in qqq)\n"
   ]
  },
  {
   "cell_type": "markdown",
   "metadata": {},
   "source": []
  }
 ],
 "metadata": {
  "kernelspec": {
   "display_name": "base",
   "language": "python",
   "name": "python3"
  },
  "language_info": {
   "codemirror_mode": {
    "name": "ipython",
    "version": 3
   },
   "file_extension": ".py",
   "mimetype": "text/x-python",
   "name": "python",
   "nbconvert_exporter": "python",
   "pygments_lexer": "ipython3",
   "version": "3.11.4"
  },
  "orig_nbformat": 4
 },
 "nbformat": 4,
 "nbformat_minor": 2
}
